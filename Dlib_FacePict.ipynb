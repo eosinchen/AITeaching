{
  "nbformat": 4,
  "nbformat_minor": 0,
  "metadata": {
    "colab": {
      "name": "Dlib_FacePict.ipynb",
      "provenance": [],
      "collapsed_sections": [],
      "authorship_tag": "ABX9TyMiJepacTE4R/LMqrOR9wdc",
      "include_colab_link": true
    },
    "kernelspec": {
      "name": "python3",
      "display_name": "Python 3"
    },
    "language_info": {
      "name": "python"
    }
  },
  "cells": [
    {
      "cell_type": "markdown",
      "metadata": {
        "id": "view-in-github",
        "colab_type": "text"
      },
      "source": [
        "<a href=\"https://colab.research.google.com/github/eosinchen/AITeaching/blob/main/Dlib_FacePict.ipynb\" target=\"_parent\"><img src=\"https://colab.research.google.com/assets/colab-badge.svg\" alt=\"Open In Colab\"/></a>"
      ]
    },
    {
      "cell_type": "code",
      "metadata": {
        "colab": {
          "base_uri": "https://localhost:8080/"
        },
        "id": "Ve1LDXC9tgr7",
        "outputId": "add744ed-2616-48dd-c95d-070916b27223"
      },
      "source": [
        "import dlib\n",
        "import cv2\n",
        "import imutils\n",
        "\n",
        "# 讀取照片圖檔\n",
        "img = cv2.imread('P1.jpg')\n",
        "\n",
        "# 縮小圖片\n",
        "img = imutils.resize(img, width=1280)\n",
        "\n",
        "# Dlib 的人臉偵測器\n",
        "detector = dlib.get_frontal_face_detector()\n",
        "\n",
        "# 偵測人臉\n",
        "face_rects = detector(img, 0)\n",
        "\n",
        "# 取出所有偵測的結果\n",
        "for i, d in enumerate(face_rects):\n",
        "    x1 = d.left()\n",
        "    y1 = d.top()\n",
        "    x2 = d.right()\n",
        "    y2 = d.bottom()\n",
        "\n",
        "    # 以方框標示偵測的人臉\n",
        "    cv2.rectangle(img, (x1, y1), (x2, y2), (0, 255, 0), 4, cv2.LINE_AA)\n",
        "\n",
        "# 結果存檔\n",
        "cv2.imwrite(\"P1_Result.jpg\", img)\n",
        "\n",
        "# 顯示結果\n",
        "# cv2.imshow(\"Face Detection\", img)\n",
        "\n",
        "# cv2.waitKey(0)\n",
        "# cv2.destroyAllWindows()"
      ],
      "execution_count": 6,
      "outputs": [
        {
          "output_type": "execute_result",
          "data": {
            "text/plain": [
              "True"
            ]
          },
          "metadata": {},
          "execution_count": 6
        }
      ]
    }
  ]
}