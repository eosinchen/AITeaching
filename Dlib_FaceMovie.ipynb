{
  "nbformat": 4,
  "nbformat_minor": 0,
  "metadata": {
    "colab": {
      "name": "Dlib_FaceMovie.ipynb",
      "provenance": [],
      "collapsed_sections": [],
      "authorship_tag": "ABX9TyPyH8HQm9eIGzkimQIUX2ZW",
      "include_colab_link": true
    },
    "kernelspec": {
      "name": "python3",
      "display_name": "Python 3"
    },
    "language_info": {
      "name": "python"
    }
  },
  "cells": [
    {
      "cell_type": "markdown",
      "metadata": {
        "id": "view-in-github",
        "colab_type": "text"
      },
      "source": [
        "<a href=\"https://colab.research.google.com/github/eosinchen/AITeaching/blob/main/Dlib_FaceMovie.ipynb\" target=\"_parent\"><img src=\"https://colab.research.google.com/assets/colab-badge.svg\" alt=\"Open In Colab\"/></a>"
      ]
    },
    {
      "cell_type": "code",
      "metadata": {
        "id": "4cj9vnbkFDFN"
      },
      "source": [
        "\n",
        "import dlib\n",
        "import cv2\n",
        "# import imutils\n",
        "\n",
        "# 開啟影片檔案\n",
        "cap = cv2.VideoCapture('M1.mp4')\n",
        "\n",
        "# 取得畫面尺寸\n",
        "width = int(cap.get(cv2.CAP_PROP_FRAME_WIDTH))\n",
        "height = int(cap.get(cv2.CAP_PROP_FRAME_HEIGHT))\n",
        "\n",
        "# 使用 XVID 編碼\n",
        "fourcc = cv2.VideoWriter_fourcc(*'XVID')\n",
        "\n",
        "# 建立 VideoWriter 物件，輸出影片至 output.avi，FPS 值為 20.0\n",
        "out = cv2.VideoWriter('output.avi', fourcc, 20.0, (width, height))\n",
        "\n",
        "# Dlib 的人臉偵測器\n",
        "detector = dlib.get_frontal_face_detector()\n",
        "\n",
        "# 以迴圈從影片檔案讀取影格，並顯示出來\n",
        "while (cap.isOpened()):\n",
        "    ret, frame = cap.read()\n",
        "\n",
        "    # 偵測人臉\n",
        "    face_rects, scores, idx = detector.run(frame, 0)\n",
        "\n",
        "    # 取出所有偵測的結果\n",
        "    for i, d in enumerate(face_rects):\n",
        "        x1 = d.left()\n",
        "        y1 = d.top()\n",
        "        x2 = d.right()\n",
        "        y2 = d.bottom()\n",
        "        text = \"%2.2f(%d)\" % (scores[i], idx[i])\n",
        "\n",
        "        # 以方框標示偵測的人臉\n",
        "        cv2.rectangle(frame, (x1, y1), (x2, y2), (0, 255, 0), 4, cv2.LINE_AA)\n",
        "\n",
        "        # 標示分數\n",
        "        cv2.putText(frame, text, (x1, y1), cv2.FONT_HERSHEY_DUPLEX, 0.7, (255, 255, 255), 1, cv2.LINE_AA)\n",
        "\n",
        "    # 寫入影格\n",
        "    out.write(frame)\n",
        "\n",
        "    # 顯示結果\n",
        "    # cv2.imshow(\"Face Detection\", frame)\n",
        "\n",
        "    if cv2.waitKey(1) & 0xFF == ord('q'):\n",
        "        break\n",
        "\n",
        "cap.release()\n",
        "out.release()\n",
        "cv2.destroyAllWindows()"
      ],
      "execution_count": null,
      "outputs": []
    }
  ]
}