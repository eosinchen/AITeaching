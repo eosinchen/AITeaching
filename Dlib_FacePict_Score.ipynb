{
  "nbformat": 4,
  "nbformat_minor": 0,
  "metadata": {
    "colab": {
      "name": "Dlib_FacePict_Score.ipynb",
      "provenance": [],
      "collapsed_sections": [],
      "authorship_tag": "ABX9TyOhrTOG1QZrxkgcvqHoybfR",
      "include_colab_link": true
    },
    "kernelspec": {
      "name": "python3",
      "display_name": "Python 3"
    },
    "language_info": {
      "name": "python"
    }
  },
  "cells": [
    {
      "cell_type": "markdown",
      "metadata": {
        "id": "view-in-github",
        "colab_type": "text"
      },
      "source": [
        "<a href=\"https://colab.research.google.com/github/eosinchen/AITeaching/blob/main/Dlib_FacePict_Score.ipynb\" target=\"_parent\"><img src=\"https://colab.research.google.com/assets/colab-badge.svg\" alt=\"Open In Colab\"/></a>"
      ]
    },
    {
      "cell_type": "code",
      "metadata": {
        "colab": {
          "base_uri": "https://localhost:8080/"
        },
        "id": "Ve1LDXC9tgr7",
        "outputId": "add744ed-2616-48dd-c95d-070916b27223"
      },
      "source": [
        "\n",
        "import dlib\n",
        "import cv2\n",
        "import imutils\n",
        "\n",
        "img = cv2.imread('P1.jpg')\n",
        "img = imutils.resize(img, width=1280)\n",
        "detector = dlib.get_frontal_face_detector()\n",
        "\n",
        "# 偵測人臉，輸出分數\n",
        "face_rects, scores, idx = detector.run(img, 0, -1)\n",
        "\n",
        "for i, d in enumerate(face_rects):\n",
        "    x1 = d.left()\n",
        "    y1 = d.top()\n",
        "    x2 = d.right()\n",
        "    y2 = d.bottom()\n",
        "    text = \"%2.2f(%d)\" % (scores[i], idx[i])\n",
        "\n",
        "    cv2.rectangle(img, (x1, y1), (x2, y2), (0, 255, 0), 4, cv2.LINE_AA)\n",
        "\n",
        "    # 標示分數\n",
        "    cv2.putText(img, text, (x1, y1), cv2.FONT_HERSHEY_DUPLEX, 0.7, (255, 255, 255), 1, cv2.LINE_AA)\n",
        "\n",
        "# 結果存檔\n",
        "cv2.imwrite(\"P1_Result.jpg\", img)\n",
        "\n",
        "# cv2.imshow(\"Face Detection\", img)\n",
        "\n",
        "# cv2.waitKey(0)\n",
        "# cv2.destroyAllWindows()\n"
      ],
      "execution_count": 6,
      "outputs": [
        {
          "output_type": "execute_result",
          "data": {
            "text/plain": [
              "True"
            ]
          },
          "metadata": {},
          "execution_count": 6
        }
      ]
    }
  ]
}